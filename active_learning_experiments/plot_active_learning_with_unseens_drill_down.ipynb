{
 "cells": [
  {
   "cell_type": "code",
   "execution_count": 1,
   "id": "4f6db67e",
   "metadata": {},
   "outputs": [],
   "source": [
    "import sys\n",
    "sys.path.append(\"../\")"
   ]
  },
  {
   "cell_type": "code",
   "execution_count": 2,
   "id": "138f71cb",
   "metadata": {},
   "outputs": [],
   "source": [
    "%load_ext autoreload\n",
    "%autoreload 2"
   ]
  },
  {
   "cell_type": "code",
   "execution_count": 3,
   "id": "462dbb6c",
   "metadata": {},
   "outputs": [],
   "source": [
    "#Plotting\n",
    "import matplotlib.pyplot as plt\n",
    "import seaborn as sns\n",
    "import sys\n",
    "sns.set_context('paper')\n",
    "import logging\n",
    "logging.basicConfig(format='%(asctime)s %(levelname)-7s %(message)s',\n",
    "                    stream=sys.stderr, level=logging.INFO)\n",
    "mpl_logger = logging.getLogger('matplotlib')\n",
    "mpl_logger.setLevel(logging.INFO)\n",
    "\n",
    "import os\n",
    "\n",
    "from pathlib import Path\n",
    "import pandas as pd\n",
    "import json\n",
    "from collections import Counter\n",
    "\n",
    "\n",
    "#In-house Module Imports\n",
    "from config import Configuration "
   ]
  },
  {
   "cell_type": "code",
   "execution_count": 4,
   "id": "bedc1026",
   "metadata": {},
   "outputs": [
    {
     "name": "stderr",
     "output_type": "stream",
     "text": [
      "2022-04-18 11:19:40,070 WARNING Are you sure that you are: aksar?\n"
     ]
    }
   ],
   "source": [
    "user = \"aksar\"\n",
    "logging.warning(f'Are you sure that you are: {user}?')"
   ]
  },
  {
   "cell_type": "code",
   "execution_count": 5,
   "id": "e6432701",
   "metadata": {},
   "outputs": [],
   "source": [
    "#Update these\n",
    "\n",
    "PARENT_DIR = 'active_learning_experiments'\n",
    "SYSTEM = 'volta'\n",
    "FE_NAME = 'tsfresh'\n",
    "EXP_NAME = f'{FE_NAME}_experiments'\n",
    "DIR_NAME_TO_GENERATE_RESULTS = 'exp_2_active_learning_investigation' #batch_unseen_app_results"
   ]
  },
  {
   "cell_type": "code",
   "execution_count": 6,
   "id": "6b82e042",
   "metadata": {},
   "outputs": [],
   "source": [
    "OUTPUT_DIR = f'/projectnb/peaclab-mon/{user}/{PARENT_DIR}' # or feature_extraction_experiments\n",
    "CV_INDEX = 0\n",
    "SCALER = 'None' #For now, do the scaling inside the notebook, then you can move that to the class function"
   ]
  },
  {
   "cell_type": "code",
   "execution_count": null,
   "id": "fd243afa",
   "metadata": {},
   "outputs": [],
   "source": [
    "conf = Configuration(ipython=True,\n",
    "                     overrides={\n",
    "                         'output_dir': Path(OUTPUT_DIR), #change\n",
    "                         'system' : SYSTEM,\n",
    "                         'exp_name':EXP_NAME,                                                  \n",
    "                         'cv_fold':CV_INDEX, \n",
    "                         'model_config': DIR_NAME_TO_GENERATE_RESULTS\n",
    "                     })\n",
    "\n",
    "with open(str(conf['experiment_dir']) + '/anom_dict.json') as f:\n",
    "    ANOM_DICT = json.load(f)\n",
    "with open(str(conf['experiment_dir']) + '/app_dict.json') as f:\n",
    "    APP_DICT = json.load(f) \n",
    "    \n",
    "APP_REVERSE_DICT = {}\n",
    "for app_name, app_encoding in APP_DICT.items():\n",
    "    APP_REVERSE_DICT[str(app_encoding)] = app_name    \n",
    "\n",
    "ANOM_REVERSE_DICT = {}\n",
    "for anom_name, anom_encoding in ANOM_DICT.items():\n",
    "    ANOM_REVERSE_DICT[str(anom_encoding)] = anom_name"
   ]
  },
  {
   "cell_type": "code",
   "execution_count": null,
   "id": "7eba2f8c",
   "metadata": {},
   "outputs": [],
   "source": [
    "result_df = pd.DataFrame()\n",
    "result_list = []\n",
    "\n",
    "for cv_index in [0,1,2,3,4]:\n",
    "\n",
    "    conf = Configuration(ipython=True,\n",
    "                         overrides={\n",
    "                             'output_dir': Path(OUTPUT_DIR), #change\n",
    "                             'system' : SYSTEM,\n",
    "                             'exp_name':EXP_NAME,                                                  \n",
    "                             'cv_fold':cv_index, \n",
    "                             'model_config': DIR_NAME_TO_GENERATE_RESULTS\n",
    "                         }\n",
    "                        )\n",
    "    \n",
    "    for filename in os.listdir(conf['results_dir']):\n",
    "\n",
    "        if  \"app-anom-selection\" in filename:\n",
    "            \n",
    "            only_filename = filename.split('.')\n",
    "            splitted_filename = only_filename[0].split('#')\n",
    "            train_apps = splitted_filename[0].split(':')[1]\n",
    "            test_apps = splitted_filename[1].split(':')[1]\n",
    "\n",
    "            feature_count = splitted_filename[3]            \n",
    "            method = splitted_filename[4]\n",
    "            query_strategy = splitted_filename[5]\n",
    "            query_size = splitted_filename[6]\n",
    "            model_name = splitted_filename[7]\n",
    "\n",
    "            num_unknown_test_apps = len(test_apps.split(\"-\"))\n",
    "            num_known_train_apps = len(train_apps.split(\"-\"))        \n",
    "\n",
    "            temp_csv = pd.read_csv(Path(conf['results_dir']) / filename)\n",
    "\n",
    "            temp_csv['cv_index'] = cv_index\n",
    "            temp_csv['num_known_train_apps'] = num_known_train_apps\n",
    "            temp_csv['num_unknown_test_apps'] = num_unknown_test_apps\n",
    "            temp_csv['train_apps'] = train_apps\n",
    "            temp_csv['test_apps'] = test_apps\n",
    "            temp_csv['feature_count'] = feature_count\n",
    "            temp_csv['method'] = method\n",
    "            temp_csv['query_strategy'] = query_strategy\n",
    "            temp_csv['query_size'] = query_size\n",
    "            temp_csv['model_name'] = model_name\n",
    "            temp_csv['fold'] = cv_index\n",
    "                        \n",
    "            result_list.append(temp_csv)\n",
    "               \n",
    "    result_df = pd.concat(result_list, axis=0)    \n",
    "    result_df['anoms'] = result_df['anoms'].apply(lambda x: ANOM_REVERSE_DICT[str(x)])"
   ]
  },
  {
   "cell_type": "code",
   "execution_count": null,
   "id": "04bb0dd9",
   "metadata": {},
   "outputs": [],
   "source": [
    "unique_methods = result_df['method'].unique()\n",
    "logging.info(\"Unique Methods: %s\", unique_methods)\n",
    "unique_query_strategies = result_df['query_strategy'].unique()\n",
    "logging.info(\"Unique query strategies: %s\",unique_query_strategies)\n",
    "unique_feature_counts = sorted(result_df['feature_count'].unique())\n",
    "logging.info(\"Num Features: %s\", unique_feature_counts)\n",
    "unique_query_sizes = sorted(result_df['query_size'].unique())\n",
    "logging.info(\"Unique query sizes: %s\",unique_query_sizes)\n",
    "unique_known_train_apps = result_df['num_known_train_apps'].unique()\n",
    "logging.info(\"Number of Known Apps in the Training: %s\", unique_known_train_apps)\n",
    "unique_unknown_test_apps = result_df['num_unknown_test_apps'].unique()\n",
    "logging.info(\"Number of Unknown Apps in the Test: %s\", unique_unknown_test_apps)\n",
    "unique_folds = len(result_df[result_df['query_strategy'] != 'random']['fold'].unique())\n",
    "logging.info(\"Number of Folds for the Active Learning Methods: %s\", unique_folds)"
   ]
  },
  {
   "cell_type": "code",
   "execution_count": 12,
   "id": "b438c776",
   "metadata": {},
   "outputs": [],
   "source": [
    "param_dict = {\n",
    "                'fig_width': 36,\n",
    "                'fig_height': 12,\n",
    "                'y_label_font': 36,\n",
    "                'x_label_font': 36,\n",
    "                 'x_ticks_font': 32,\n",
    "                 'y_ticks_font': 40,    \n",
    "                'legend_size': 30,\n",
    "                'legend_title_size': 40,\n",
    "                'title_size': 36,\n",
    "                'title_pad': 40,             \n",
    "             }"
   ]
  },
  {
   "cell_type": "code",
   "execution_count": null,
   "id": "2673e9ea",
   "metadata": {},
   "outputs": [],
   "source": [
    "for unique_known_train_app in unique_known_train_apps:\n",
    "    \n",
    "    temp_result_df = result_df[result_df['num_known_train_apps'] == unique_known_train_app]\n",
    "    \n",
    "    #Plot the Anom Distribution Across Different Unknown Scenarions\n",
    "    anom_dist_df = temp_result_df.groupby(['train_apps','anoms']).size().reset_index(name=\"counts\")\n",
    "\n",
    "    fig, ax = plt.subplots(1,2,figsize=(param_dict['fig_width'], param_dict['fig_height']),gridspec_kw={'width_ratios': [1, 2]})\n",
    "\n",
    "    sns.catplot(x=\"anoms\", y=\"counts\", kind=\"box\", data=anom_dist_df, sym='', ax=ax[0])\n",
    "\n",
    "    ax[0].set_ylabel(\"Count\",size=param_dict['y_label_font'])           \n",
    "    ax[0].set_xlabel(\"Anomalies\",size=param_dict['x_label_font'])\n",
    "\n",
    "    ax[0].set_title(f\"Training Data Has {unique_known_train_app} Known Apps \",fontsize=param_dict['title_size'])\n",
    "\n",
    "    ax[0].tick_params(axis='x', labelsize= param_dict['x_ticks_font'], rotation=15)\n",
    "    ax[0].tick_params(axis='y', labelsize= param_dict['y_ticks_font'])\n",
    "\n",
    "    plt.close(2) #The most ridiculous thing ever, thanks catplot\n",
    "    #plt.show()\n",
    "    \n",
    "    #Plot the Anom Distribution Across Different Unknown Scenarions    \n",
    "    \n",
    "    app_dist_df = temp_result_df.groupby(['train_apps','apps']).size().reset_index(name=\"counts\")\n",
    "\n",
    "    #fig, ax = plt.subplots(1,1,figsize=(param_dict['fig_width'], param_dict['fig_height']))\n",
    "\n",
    "    sns.catplot(x=\"apps\", y=\"counts\", kind=\"box\", data=app_dist_df, sym='', ax=ax[1])\n",
    "\n",
    "    ax[1].set_ylabel(\"Count\",size=param_dict['y_label_font'])           \n",
    "    ax[1].set_xlabel(\"Applications\",size=param_dict['x_label_font'])\n",
    "\n",
    "    ax[1].set_title(f\"Training Data Has {unique_known_train_app} Known Apps \",fontsize=param_dict['title_size'])\n",
    "\n",
    "    ax[1].tick_params(axis='x', labelsize= param_dict['x_ticks_font'], rotation=15)\n",
    "    ax[1].tick_params(axis='y', labelsize= param_dict['y_ticks_font'])\n",
    "\n",
    "    plt.close(2) #The most ridiculous thing ever, thanks catplot\n",
    "    plt.show()    "
   ]
  }
 ],
 "metadata": {
  "kernelspec": {
   "display_name": "Python 3",
   "language": "python",
   "name": "python3"
  },
  "language_info": {
   "codemirror_mode": {
    "name": "ipython",
    "version": 3
   },
   "file_extension": ".py",
   "mimetype": "text/x-python",
   "name": "python",
   "nbconvert_exporter": "python",
   "pygments_lexer": "ipython3",
   "version": "3.6.5"
  }
 },
 "nbformat": 4,
 "nbformat_minor": 5
}
